{
 "cells": [
  {
   "cell_type": "markdown",
   "metadata": {},
   "source": [
    "# COVID screening lab simulation"
   ]
  },
  {
   "cell_type": "markdown",
   "metadata": {},
   "source": [
    "## Requirements and module imports\n",
    "\n",
    "Code in this simulation uses a standard Anaconda Python environment (https://www.anaconda.com/distribution/#download-section). Additionally this model uses SimPy3 (https://simpy.readthedocs.io/en/latest/). Install SimPy3 with `pip install 'simpy<4'`."
   ]
  },
  {
   "cell_type": "code",
   "execution_count": 5,
   "metadata": {},
   "outputs": [
    {
     "output_type": "error",
     "ename": "ModuleNotFoundError",
     "evalue": "No module named 'simpy'",
     "traceback": [
      "\u001b[0;31m---------------------------------------------------------------------------\u001b[0m",
      "\u001b[0;31mModuleNotFoundError\u001b[0m                       Traceback (most recent call last)",
      "\u001b[0;32m<ipython-input-5-a200f0c0c5ae>\u001b[0m in \u001b[0;36m<module>\u001b[0;34m\u001b[0m\n\u001b[0;32m----> 1\u001b[0;31m \u001b[0;32mimport\u001b[0m \u001b[0msimpy\u001b[0m\u001b[0;34m\u001b[0m\u001b[0;34m\u001b[0m\u001b[0m\n\u001b[0m\u001b[1;32m      2\u001b[0m \u001b[0;32mimport\u001b[0m \u001b[0minspect\u001b[0m\u001b[0;34m\u001b[0m\u001b[0;34m\u001b[0m\u001b[0m\n\u001b[1;32m      3\u001b[0m \u001b[0;32mfrom\u001b[0m \u001b[0msim_utils\u001b[0m\u001b[0;34m.\u001b[0m\u001b[0mreplication\u001b[0m \u001b[0;32mimport\u001b[0m \u001b[0mReplicator\u001b[0m\u001b[0;34m\u001b[0m\u001b[0;34m\u001b[0m\u001b[0m\n\u001b[1;32m      4\u001b[0m \u001b[0;32mfrom\u001b[0m \u001b[0msim_utils\u001b[0m\u001b[0;34m.\u001b[0m\u001b[0mparameters\u001b[0m \u001b[0;32mimport\u001b[0m \u001b[0mScenario\u001b[0m\u001b[0;34m\u001b[0m\u001b[0;34m\u001b[0m\u001b[0m\n",
      "\u001b[0;31mModuleNotFoundError\u001b[0m: No module named 'simpy'"
     ]
    }
   ],
   "source": [
    "import simpy\n",
    "import inspect\n",
    "from sim_utils.replication import Replicator\n",
    "from sim_utils.parameters import Scenario"
   ]
  },
  {
   "cell_type": "markdown",
   "metadata": {},
   "source": [
    "## Set up scenarios\n",
    "\n",
    "Parameters defined in scenarios will overwrite default values in the parameters python file."
   ]
  },
  {
   "cell_type": "code",
   "execution_count": 6,
   "metadata": {},
   "outputs": [
    {
     "output_type": "error",
     "ename": "NameError",
     "evalue": "name 'Scenario' is not defined",
     "traceback": [
      "\u001b[0;31m---------------------------------------------------------------------------\u001b[0m",
      "\u001b[0;31mNameError\u001b[0m                                 Traceback (most recent call last)",
      "\u001b[0;32m<ipython-input-6-4686268a021d>\u001b[0m in \u001b[0;36m<module>\u001b[0;34m\u001b[0m\n\u001b[1;32m      2\u001b[0m \u001b[0mscenarios\u001b[0m \u001b[0;34m=\u001b[0m \u001b[0;34m{\u001b[0m\u001b[0;34m}\u001b[0m\u001b[0;34m\u001b[0m\u001b[0;34m\u001b[0m\u001b[0m\n\u001b[1;32m      3\u001b[0m \u001b[0;34m\u001b[0m\u001b[0m\n\u001b[0;32m----> 4\u001b[0;31m scenarios['30k_recommended'] = Scenario(\n\u001b[0m\u001b[1;32m      5\u001b[0m     \u001b[0msamples_per_day\u001b[0m \u001b[0;34m=\u001b[0m \u001b[0;36m30000\u001b[0m\u001b[0;34m,\u001b[0m\u001b[0;34m\u001b[0m\u001b[0;34m\u001b[0m\u001b[0m\n\u001b[1;32m      6\u001b[0m \u001b[0;34m\u001b[0m\u001b[0m\n",
      "\u001b[0;31mNameError\u001b[0m: name 'Scenario' is not defined"
     ]
    }
   ],
   "source": [
    "# Set up a dictionary to hold scenarios\n",
    "scenarios = {}\n",
    "\n",
    "scenarios['30k_recommended'] = Scenario(\n",
    "    samples_per_day = 30000,\n",
    "\n",
    "    resource_numbers = {\n",
    "        'human_sample_receipt_shift_1': 15,\n",
    "        'human_sample_receipt_shift_2': 9,\n",
    "        'human_sample_prep_shift_1': 5,\n",
    "        'human_sample_prep_shift_2': 5,\n",
    "        'human_rna_prep_shift_1': 4,\n",
    "        'human_rna_prep_shift_2': 4,\n",
    "        'human_pcr_shift_1': 3,\n",
    "        'human_pcr_shift_2': 3,\n",
    "        'beckman_rna_extraction': 16,\n",
    "        'pcr_plate_stamper': 2,\n",
    "        'pcr_plate_reader': 13,\n",
    "        'sample_prep_automation': 5\n",
    "        },\n",
    "    \n",
    "    # Workstations represent the physical capacity  \n",
    "    workstation_capacity = {\n",
    "        'workstation_0': 99999,\n",
    "        'workstation_1a': 7,\n",
    "        'workstation_1b_man': 5,\n",
    "        'workstation_1b_auto': 5, \n",
    "        'workstation_2': 16,\n",
    "        'workstation_3': 2,\n",
    "        'workstation_4': 13\n",
    "        },\n",
    "\n",
    "    # Resource available hours (use hours)\n",
    "    resource_shift_hours = {\n",
    "        'human_sample_receipt_shift_1': (0.3, 9.0),\n",
    "        'human_sample_receipt_shift_2': (9.0, 17.75),\n",
    "        'human_sample_prep_shift_1': (0.3, 9.0),\n",
    "        'human_sample_prep_shift_2': (9.0, 17.75),\n",
    "        'human_rna_prep_shift_1': (0.3, 9.0),\n",
    "        'human_rna_prep_shift_2': (9.0, 17.75),\n",
    "        'human_pcr_shift_1': (0.3, 9.0),\n",
    "        'human_pcr_shift_2': (9.0, 17.75),\n",
    "        'beckman_rna_extraction': (0.0, 24.0),\n",
    "        'pcr_plate_stamper': (0.0, 24.0),\n",
    "        'pcr_plate_reader': (0.0, 24.0),\n",
    "        'sample_prep_automation': (0.0, 24.0),\n",
    "        },\n",
    "    \n",
    "    # Range of times new jobs may start\n",
    "    process_start_hours = {\n",
    "        'sample_receipt': (0, 16),\n",
    "        'sample_prep': (0, 16),\n",
    "        'rna_extraction': (0, 16),\n",
    "        'pcr_prep': (0, 24),\n",
    "        'pcr': (0, 24)\n",
    "        },\n",
    "\n",
    "     # Resource unavailability on any whole day due to breakdown\n",
    "    resource_breakdown_unavailability = {\n",
    "        'human_sample_receipt_shift_1': 0,\n",
    "        'human_sample_receipt_shift_2': 0,\n",
    "        'human_sample_prep_shift_1': 0,\n",
    "        'human_sample_prep_shift_2': 0,\n",
    "        'human_rna_prep_shift_1': 0,\n",
    "        'human_rna_prep_shift_2': 0,\n",
    "        'human_pcr_shift_1': 0,\n",
    "        'human_pcr_shift_2': 0,\n",
    "        'beckman_rna_extraction': 0.0,\n",
    "        'pcr_plate_stamper': 0.0,\n",
    "        'pcr_plate_reader': 0.0,\n",
    "        'sample_prep_automation': 0\n",
    "        },\n",
    "    \n",
    "    # Process duration. Tuple of fixed time, time per entity, and time per item in entity.\n",
    "    # Multi-step automated processes have three sets of times (set up, automated, clean down)\n",
    "    process_duration = {\n",
    "         'batch_input': ([0,0,0],),\n",
    "         'sample_receipt': ([16, 0, 0],),\n",
    "         'sample_prep_manual': ([37, 0, 0],),\n",
    "         'sample_prep_auto': ([2, 0, 0], [6, 0, 0], [2, 0, 0]),\n",
    "         'rna_extraction': ([5,0,0],[70,0,0],[2,0,0]),\n",
    "         'pcr_prep': ([5,0,0],[10,0,0],[1,0,0]),\n",
    "         'pcr': ([5,0,0],[117,0,0],[1,0,0]),\n",
    "         },\n",
    "             \n",
    "    allow_maual_sample_prep = False,\n",
    "    tea_break_times = [2*60, 6*60, 12*60, 16*60],\n",
    "    meal_break_times = [4*60, 14*60],\n",
    "    break_start_spread = 60,\n",
    "    tea_break_duration = [15, 20],\n",
    "    meal_break_duration = [30, 40],\n",
    "    \n",
    "    # rna pcr kanban group limit\n",
    "    # Limit of PCR read capapcity multiple allowed from sample prep onwards\n",
    "    pcr_kanban_limit = 3\n",
    "    )"
   ]
  },
  {
   "cell_type": "markdown",
   "metadata": {},
   "source": [
    "## Run model"
   ]
  },
  {
   "cell_type": "code",
   "execution_count": 7,
   "metadata": {},
   "outputs": [
    {
     "output_type": "error",
     "ename": "NameError",
     "evalue": "name 'Replicator' is not defined",
     "traceback": [
      "\u001b[0;31m---------------------------------------------------------------------------\u001b[0m",
      "\u001b[0;31mNameError\u001b[0m                                 Traceback (most recent call last)",
      "\u001b[0;32m<ipython-input-7-2e6ce68681a2>\u001b[0m in \u001b[0;36m<module>\u001b[0;34m\u001b[0m\n\u001b[1;32m      1\u001b[0m \u001b[0mreplications\u001b[0m \u001b[0;34m=\u001b[0m \u001b[0;36m30\u001b[0m\u001b[0;34m\u001b[0m\u001b[0;34m\u001b[0m\u001b[0m\n\u001b[0;32m----> 2\u001b[0;31m \u001b[0mreplications\u001b[0m \u001b[0;34m=\u001b[0m \u001b[0mReplicator\u001b[0m\u001b[0;34m(\u001b[0m\u001b[0mscenarios\u001b[0m\u001b[0;34m,\u001b[0m \u001b[0mreplications\u001b[0m\u001b[0;34m)\u001b[0m\u001b[0;34m\u001b[0m\u001b[0;34m\u001b[0m\u001b[0m\n\u001b[0m\u001b[1;32m      3\u001b[0m \u001b[0mreplications\u001b[0m\u001b[0;34m.\u001b[0m\u001b[0mrun_scenarios\u001b[0m\u001b[0;34m(\u001b[0m\u001b[0;34m)\u001b[0m\u001b[0;34m\u001b[0m\u001b[0;34m\u001b[0m\u001b[0m\n",
      "\u001b[0;31mNameError\u001b[0m: name 'Replicator' is not defined"
     ]
    }
   ],
   "source": [
    "replications = 30\n",
    "replications = Replicator(scenarios, replications)\n",
    "replications.run_scenarios()"
   ]
  },
  {
   "cell_type": "markdown",
   "metadata": {},
   "source": [
    "## Show model default parameters\n",
    "\n",
    "Run the code below to model defaults these are over-ridden by scenarios)."
   ]
  },
  {
   "cell_type": "code",
   "execution_count": 8,
   "metadata": {},
   "outputs": [
    {
     "output_type": "error",
     "ename": "NameError",
     "evalue": "name 'inspect' is not defined",
     "traceback": [
      "\u001b[0;31m---------------------------------------------------------------------------\u001b[0m",
      "\u001b[0;31mNameError\u001b[0m                                 Traceback (most recent call last)",
      "\u001b[0;32m<ipython-input-8-5432c154beac>\u001b[0m in \u001b[0;36m<module>\u001b[0;34m\u001b[0m\n\u001b[0;32m----> 1\u001b[0;31m \u001b[0mprint\u001b[0m\u001b[0;34m(\u001b[0m\u001b[0minspect\u001b[0m\u001b[0;34m.\u001b[0m\u001b[0mgetsource\u001b[0m\u001b[0;34m(\u001b[0m\u001b[0mScenario\u001b[0m\u001b[0;34m.\u001b[0m\u001b[0m__init__\u001b[0m\u001b[0;34m)\u001b[0m\u001b[0;34m)\u001b[0m\u001b[0;34m\u001b[0m\u001b[0;34m\u001b[0m\u001b[0m\n\u001b[0m",
      "\u001b[0;31mNameError\u001b[0m: name 'inspect' is not defined"
     ]
    }
   ],
   "source": [
    "print(inspect.getsource(Scenario.__init__))"
   ]
  }
 ],
 "metadata": {
  "kernelspec": {
   "display_name": "Python 3.7.6 64-bit ('rl_examples': conda)",
   "language": "python",
   "name": "python37664bitrlexamplescondae3bfa2c9238148a78317ffd3dd9593cd"
  },
  "language_info": {
   "codemirror_mode": {
    "name": "ipython",
    "version": 3
   },
   "file_extension": ".py",
   "mimetype": "text/x-python",
   "name": "python",
   "nbconvert_exporter": "python",
   "pygments_lexer": "ipython3",
   "version": "3.7.6-final"
  }
 },
 "nbformat": 4,
 "nbformat_minor": 4
}